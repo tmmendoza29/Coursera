{
 "cells": [
  {
   "cell_type": "markdown",
   "id": "12547e98-51d8-4514-89fa-a614dee01516",
   "metadata": {},
   "source": [
    "# Data Science Tools and Ecosystems"
   ]
  },
  {
   "cell_type": "markdown",
   "id": "f5af0f49-0818-483a-91d0-0262925e87a8",
   "metadata": {},
   "source": [
    "In this notebook, Data Science Tools and Ecosystem are summarized."
   ]
  },
  {
   "cell_type": "markdown",
   "id": "c1cf229c-4fca-46a8-9813-409fcd3297a2",
   "metadata": {},
   "source": [
    "**Objectives:**\n",
    "- Popular Data Scientist languages\n",
    "- List of commonly used Data Science libraries\n",
    "- Data Science Tools\n",
    "- Arithmetic expressions"
   ]
  },
  {
   "cell_type": "markdown",
   "id": "b7159c0e-9b51-4ab2-95d9-5b34810adc2a",
   "metadata": {},
   "source": [
    "Some of the popular languages Data Scientists use are:\n",
    "1. Python\n",
    "2. SQL\n",
    "3. R\n",
    "4. JavaScript"
   ]
  },
  {
   "cell_type": "markdown",
   "id": "a61c4106-dddb-4840-a493-9d65212ffec0",
   "metadata": {},
   "source": [
    "Some of the commonly used libraries used by Data Scientists include:\n",
    "1. Pandas\n",
    "2. NumPy\n",
    "3. Matpotlib"
   ]
  },
  {
   "cell_type": "markdown",
   "id": "4d9d6b56-741c-434f-88c1-c674e4c8bd15",
   "metadata": {},
   "source": [
    "| Data Science Tools |\n",
    "| ----- |\n",
    "| Anaconda |\n",
    "| RStudio |\n",
    "| Jupyter |\n"
   ]
  },
  {
   "cell_type": "markdown",
   "id": "c80916a8-228c-468e-8fd6-4ef2700e05bf",
   "metadata": {},
   "source": [
    "### Below are a few examples fo evaluating arithmetic expressions in Python."
   ]
  },
  {
   "cell_type": "code",
   "execution_count": 1,
   "id": "dd4553f9-eaee-4efd-8060-a01bbada44ec",
   "metadata": {},
   "outputs": [
    {
     "data": {
      "text/plain": [
       "17"
      ]
     },
     "execution_count": 1,
     "metadata": {},
     "output_type": "execute_result"
    }
   ],
   "source": [
    "#This is a simple arithmetic expression to multiply then add integers\n",
    "(3*4)+5"
   ]
  },
  {
   "cell_type": "code",
   "execution_count": 3,
   "id": "e6fe94a5-27f1-4c4d-a01f-a52db54d72aa",
   "metadata": {},
   "outputs": [
    {
     "data": {
      "text/plain": [
       "3.3333333333333335"
      ]
     },
     "execution_count": 3,
     "metadata": {},
     "output_type": "execute_result"
    }
   ],
   "source": [
    "#This will convert 200 minutes to hours by dividing by 60\n",
    "200/60"
   ]
  },
  {
   "cell_type": "markdown",
   "id": "1a291edc-437e-44fa-816b-5e5406817cfc",
   "metadata": {},
   "source": [
    "## Author\n",
    "Trisha Mendoza"
   ]
  }
 ],
 "metadata": {
  "kernelspec": {
   "display_name": "Python 3 (ipykernel)",
   "language": "python",
   "name": "python3"
  },
  "language_info": {
   "codemirror_mode": {
    "name": "ipython",
    "version": 3
   },
   "file_extension": ".py",
   "mimetype": "text/x-python",
   "name": "python",
   "nbconvert_exporter": "python",
   "pygments_lexer": "ipython3",
   "version": "3.11.7"
  }
 },
 "nbformat": 4,
 "nbformat_minor": 5
}
